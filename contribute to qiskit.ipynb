{
 "cells": [
  {
   "cell_type": "code",
   "execution_count": 2,
   "metadata": {},
   "outputs": [],
   "source": [
    "# Basics is for those who are getting started.\n",
    "# Terra is for those who want to study circuits.\n",
    "# Aer is for those who want to simulate quantum circuits.\n",
    "# Ignis is for those who want to study noise.\n",
    "# Aqua is for those who want to develop applications on NISQ computers."
   ]
  },
  {
   "cell_type": "code",
   "execution_count": 3,
   "metadata": {},
   "outputs": [
    {
     "ename": "SyntaxError",
     "evalue": "invalid syntax (<ipython-input-3-4d0bec3a612f>, line 1)",
     "output_type": "error",
     "traceback": [
      "\u001b[1;36m  File \u001b[1;32m\"<ipython-input-3-4d0bec3a612f>\"\u001b[1;36m, line \u001b[1;32m1\u001b[0m\n\u001b[1;33m    step 1: fork to personal github\u001b[0m\n\u001b[1;37m         ^\u001b[0m\n\u001b[1;31mSyntaxError\u001b[0m\u001b[1;31m:\u001b[0m invalid syntax\n"
     ]
    }
   ],
   "source": [
    "# step 1: fork to personal github\n",
    "# step 2: git clone \n",
    "# step 3: git remote -v to check you are not direct to the original repo\n",
    "# step 4: git remote add upstream <https://{the original repo that you forked}>\n",
    "# it's good idea to create a virual environment for fixing one issue at time\n",
    "# step 5: modify and debug the code\n",
    "# step 6: run few tests against your changes\n",
    "# step 7: git commit your change to upstream repo <https://{the original repo that you forked}>\n",
    "# step 8: once you commit the changes, you automatically create pull request, and repo owner will review the changes and make final decision on your changes"
   ]
  },
  {
   "cell_type": "code",
   "execution_count": null,
   "metadata": {},
   "outputs": [],
   "source": []
  }
 ],
 "metadata": {
  "kernelspec": {
   "display_name": "Python 3",
   "language": "python",
   "name": "python3"
  },
  "language_info": {
   "codemirror_mode": {
    "name": "ipython",
    "version": 3
   },
   "file_extension": ".py",
   "mimetype": "text/x-python",
   "name": "python",
   "nbconvert_exporter": "python",
   "pygments_lexer": "ipython3",
   "version": "3.7.1"
  }
 },
 "nbformat": 4,
 "nbformat_minor": 2
}
